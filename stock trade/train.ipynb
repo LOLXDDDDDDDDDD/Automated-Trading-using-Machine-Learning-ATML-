{
 "cells": [
  {
   "cell_type": "code",
   "execution_count": 1,
   "metadata": {},
   "outputs": [
    {
     "name": "stdout",
     "output_type": "stream",
     "text": [
      "[]\n"
     ]
    }
   ],
   "source": [
    "# NEED sklearn ver 1.0.2\n",
    "import os\n",
    "os.add_dll_directory(\"C:/Program Files/NVIDIA GPU Computing Toolkit/CUDA/v11.2/bin\") \n",
    "import numpy as np\n",
    "import tensorflow as tf\n",
    "from tensorflow import keras\n",
    "import pandas as pd\n",
    "import pandas_datareader as web\n",
    "import seaborn as sns\n",
    "from pylab import rcParams\n",
    "import matplotlib.pyplot as plt\n",
    "from matplotlib import rc\n",
    "from sklearn.model_selection import train_test_split\n",
    "from pandas.plotting import register_matplotlib_converters\n",
    "from alpaca_trade_api.rest import REST, TimeFrame, TimeFrameUnit\n",
    "import alpaca_trade_api as tradeapi\n",
    "from alpaca_trade_api.rest_async import gather_with_concurrency, AsyncRest\n",
    "from alpaca_trade_api.stream import Stream\n",
    "from alpaca_trade_api.common import URL\n",
    "import joblib\n",
    "import yfinance as yf\n",
    "import time \n",
    "import datetime\n",
    "import sys\n",
    "import requests as requests_cache\n",
    "\n",
    "# check gpu availability\n",
    "print(tf.config.list_physical_devices('GPU'))"
   ]
  },
  {
   "cell_type": "code",
   "execution_count": 2,
   "metadata": {},
   "outputs": [],
   "source": [
    "# depends on ur account\n",
    "api_key_id = \"YOUR_API_KEY\"\n",
    "api_secret = \"YOUR_SECRET-KEY\"\n",
    "base_url = \"https://paper-api.alpaca.markets\"\n",
    "feed = \"iex\"  # change to \"sip\" if you have a paid account\n",
    "\n",
    "# fixed variables\n",
    "time_steps = 5\n",
    "symbol = [\"AAPL\", \"AMD\", \"ASML\", \"JPM\", \"META\", \n",
    "        \"MSFT\",\"NVDA\", \"PFE\", \"TSLA\", \"TSM\"]\n",
    "f_columns = ['open','high','low','volume','trade_count','vwap']\n",
    "\n",
    "# initialize variables\n",
    "# long and short list contain symbol and supposed quantity\n",
    "long = []\n",
    "short = []\n",
    "longSymbol = []\n",
    "shortSymbol = []\n",
    "oldPosList = []\n",
    "livePrice = [0] * len(symbol)\n",
    "# in symbolRanking, the index refers to corresponding symbol\n",
    "symbolPercent = [0] * len(symbol)\n",
    "lastBalanceTime = float(0.0)"
   ]
  },
  {
   "cell_type": "code",
   "execution_count": 3,
   "metadata": {},
   "outputs": [
    {
     "name": "stdout",
     "output_type": "stream",
     "text": [
      "Connecting to alpaca_trade_api...\n",
      "connected\n"
     ]
    }
   ],
   "source": [
    "# connect to alpaca_trade_api\n",
    "print(\"Connecting to alpaca_trade_api...\")\n",
    "rest = AsyncRest(key_id=api_key_id,\n",
    "                 secret_key=api_secret)\n",
    "\n",
    "api = tradeapi.REST(key_id=api_key_id,\n",
    "                    secret_key=api_secret,\n",
    "                    base_url=base_url)\n",
    "print(\"connected\")"
   ]
  },
  {
   "cell_type": "code",
   "execution_count": 15,
   "metadata": {},
   "outputs": [],
   "source": [
    "portfolio = api.get_portfolio_history(\"2022-07-06\", \"2022-07-23\", timeframe=\"15Min\").df"
   ]
  },
  {
   "cell_type": "code",
   "execution_count": 4,
   "metadata": {},
   "outputs": [
    {
     "name": "stdout",
     "output_type": "stream",
     "text": [
      "loading model...\n",
      "loaded model:  AAPL_model\n",
      "loaded model:  AMD_model\n",
      "loaded model:  ASML_model\n",
      "loaded model:  JPM_model\n",
      "loaded model:  META_model\n",
      "loaded model:  MSFT_model\n",
      "loaded model:  NVDA_model\n",
      "loaded model:  PFE_model\n",
      "loaded model:  TSLA_model\n",
      "loaded model:  TSM_model\n",
      "model loaded successfully\n"
     ]
    }
   ],
   "source": [
    "# load tensorflow model\n",
    "model = []\n",
    "print(\"loading model...\")\n",
    "for i in range(len(symbol)):\n",
    "    model_fileName = symbol[i] + \"_model\"\n",
    "    mod = tf.keras.models.load_model(model_fileName)\n",
    "    model.append(mod)\n",
    "    print(\"loaded model: \", model_fileName)\n",
    "print(\"model loaded successfully\")"
   ]
  },
  {
   "cell_type": "code",
   "execution_count": 5,
   "metadata": {},
   "outputs": [
    {
     "name": "stdout",
     "output_type": "stream",
     "text": [
      "loading transformer...\n",
      "transformer loaded successfully\n"
     ]
    }
   ],
   "source": [
    "# load the robust transformer\n",
    "# NEED sklearn ver 1.0.2\n",
    "f_transformer = []\n",
    "close_transformer = []\n",
    "print(\"loading transformer...\")\n",
    "for i in range(len(symbol)):\n",
    "    f_transformer_filename = \"f_transformer_\" + symbol[i] + \".save\"\n",
    "    close_transformer_filename = \"close_transformer_\" + symbol[i] + \".save\"\n",
    "\n",
    "    f_tran = joblib.load(f_transformer_filename)\n",
    "    close_tran = joblib.load(close_transformer_filename) \n",
    "\n",
    "    f_transformer.append(f_tran)\n",
    "    close_transformer.append(close_tran)\n",
    "print(\"transformer loaded successfully\")"
   ]
  },
  {
   "cell_type": "code",
   "execution_count": 6,
   "metadata": {},
   "outputs": [],
   "source": [
    "# Wait for market to open.\n",
    "def awaitMarketOpen():\n",
    "    isOpen = api.get_clock().is_open\n",
    "    while(not isOpen):\n",
    "        clock = api.get_clock()\n",
    "        openingTime = clock.next_open.replace(\n",
    "            tzinfo=datetime.timezone.utc).timestamp()\n",
    "        currTime = clock.timestamp.replace(\n",
    "            tzinfo=datetime.timezone.utc).timestamp()\n",
    "        timeToOpen = int((openingTime - currTime) / 60)\n",
    "        print(str(timeToOpen) + \" minutes til market open.\")\n",
    "        time.sleep(60)\n",
    "        isOpen = api.get_clock().is_open"
   ]
  },
  {
   "cell_type": "code",
   "execution_count": null,
   "metadata": {},
   "outputs": [],
   "source": [
    "#await market open\n",
    "print(\"Waiting for market to open...\")\n",
    "awaitMarketOpen()\n",
    "print(\"Market opened.\")"
   ]
  },
  {
   "cell_type": "code",
   "execution_count": null,
   "metadata": {},
   "outputs": [
    {
     "name": "stdout",
     "output_type": "stream",
     "text": [
      "clearing existing orders\n",
      "orders have been cleared successfully\n"
     ]
    }
   ],
   "source": [
    "# First, cancel any existing orders so they don't impact our buying power.\n",
    "print(\"clearing existing orders\")\n",
    "api.cancel_all_orders()\n",
    "print(\"orders have been cleared successfully\")"
   ]
  },
  {
   "cell_type": "code",
   "execution_count": null,
   "metadata": {},
   "outputs": [
    {
     "data": {
      "text/plain": [
       "118.13676424697042"
      ]
     },
     "execution_count": 16,
     "metadata": {},
     "output_type": "execute_result"
    }
   ],
   "source": [
    "# Figure out when the market will close so we can prepare to sell beforehand.\n",
    "clock = api.get_clock()\n",
    "closingTime = clock.next_close.replace(tzinfo=datetime.timezone.utc).timestamp()/60\n",
    "currTime = clock.timestamp.replace(tzinfo=datetime.timezone.utc).timestamp()/60\n",
    "timeToClose = closingTime - currTime\n",
    "\n",
    "#in minutes\n",
    "timeToClose"
   ]
  },
  {
   "cell_type": "code",
   "execution_count": null,
   "metadata": {},
   "outputs": [
    {
     "name": "stdout",
     "output_type": "stream",
     "text": [
      "27617157.508796133\n"
     ]
    },
    {
     "data": {
      "text/plain": [
       "27617157.508796133"
      ]
     },
     "execution_count": 15,
     "metadata": {},
     "output_type": "execute_result"
    }
   ],
   "source": [
    "print(currTime)\n",
    "clock.timestamp.replace(tzinfo=datetime.timezone.utc).timestamp()/60"
   ]
  },
  {
   "cell_type": "code",
   "execution_count": null,
   "metadata": {},
   "outputs": [],
   "source": [
    "#clear all positions if 5 min left, else trade every 15 min\n",
    "if (timeToClose < 5):\n",
    "    print (\"market closing in 1 minute, clearing all positions...\")\n",
    "    api.close_all_positions()\n",
    "    print(\"positions closed, waiting for market close\")"
   ]
  },
  {
   "cell_type": "code",
   "execution_count": 26,
   "metadata": {},
   "outputs": [],
   "source": [
    "def getLivePrice(symbol:str, session):\n",
    "    while True:\n",
    "        try:\n",
    "            data = yf.download(tickers= symbol, period='10m', interval=\"1m\", progress = False, session = session, threads = False, timeout =2)\n",
    "            return data.Close[len(data) - 1]\n",
    "        except:\n",
    "            print(\"Error downloading, trying again...\")\n",
    "            time.sleep(1)"
   ]
  },
  {
   "cell_type": "code",
   "execution_count": null,
   "metadata": {},
   "outputs": [],
   "source": [
    "yf.download(tickers= symbol, period='10m', interval=\"1m\", progress = False, session = session, threads = False, timeout =2)"
   ]
  },
  {
   "cell_type": "code",
   "execution_count": 75,
   "metadata": {},
   "outputs": [
    {
     "data": {
      "text/plain": [
       "142.9199981689453"
      ]
     },
     "execution_count": 75,
     "metadata": {},
     "output_type": "execute_result"
    }
   ],
   "source": [
    "session = requests_cache.Session()\n",
    "price = getLivePrice(\"AAPL\", session)\n",
    "session.close()\n",
    "price "
   ]
  },
  {
   "cell_type": "code",
   "execution_count": 71,
   "metadata": {},
   "outputs": [],
   "source": [
    "# predict percentage change\n",
    "def predictPercentChange():\n",
    "    session = requests_cache.Session()\n",
    "    for i in range(len(symbol)):\n",
    "        # get and save live price\n",
    "        livePrice[i] = getLivePrice(symbol[i], session)\n",
    "\n",
    "        # get past data\n",
    "        pastData = api.get_bars(symbol[i], TimeFrame(15, TimeFrameUnit.Minute), adjustment='all').df\n",
    "\n",
    "        # scale past input data\n",
    "        pastData.loc[:, f_columns] = f_transformer[i].transform(pastData[f_columns].to_numpy())\n",
    "        pastData['close'] = close_transformer[i].transform(pastData[['close']])\n",
    "\n",
    "        # numpy to array\n",
    "        past_X = []\n",
    "        past_X.append(pastData.iloc[len(pastData) - time_steps:])\n",
    "        past_X = np.array(past_X)\n",
    "\n",
    "        # predict using past data\n",
    "        future_Y = model[i].predict(past_X)\n",
    "\n",
    "        # inverse scale of predicted price\n",
    "        future_Y= close_transformer[i].inverse_transform(future_Y)\n",
    "        future_Y= future_Y.flatten()\n",
    "\n",
    "        # calculate percent change\n",
    "        # symbolPercent is the predicted percent change\n",
    "        symbolPercent[i] = float(((future_Y - livePrice[i]) * 100) / livePrice[i])\n",
    "        print(symbol[i] + \" had predicted percent change: \" + str(symbolPercent[i]))\n",
    "\n",
    "        time.sleep(1.2)\n",
    "    \n",
    "    session.close()"
   ]
  },
  {
   "cell_type": "code",
   "execution_count": 12,
   "metadata": {},
   "outputs": [],
   "source": [
    "def getPosition():\n",
    "    # predict percentage change\n",
    "    predictPercentChange()\n",
    "\n",
    "    # put stock in long and short list and determine buying amount\n",
    "    # reset long and short list\n",
    "    long[:] = []\n",
    "    short[:] = []\n",
    "    totalPercentChange = sum(map(abs, symbolPercent))\n",
    "    buyingPower = float(api.get_account().equity)\n",
    "    for i in range(len (symbol)):\n",
    "        # determine absolute amount of buying\n",
    "        # times 0.95 to avoid unable to take pos\n",
    "        amount = buyingPower * (abs(symbolPercent[i])/ totalPercentChange)\n",
    "        amount = amount * 0.95\n",
    "\n",
    "        # determine quantity of buying\n",
    "        qty = int(amount / livePrice[i])\n",
    "        # if predicted rise, buy long\n",
    "        if symbolPercent[i] > 0:\n",
    "            long.append ([symbol[i], qty])\n",
    "            \n",
    "        # else sell short as predicted fall\n",
    "        else:\n",
    "            short.append ([symbol[i], qty])"
   ]
  },
  {
   "cell_type": "code",
   "execution_count": 13,
   "metadata": {},
   "outputs": [],
   "source": [
    "# getPosition()"
   ]
  },
  {
   "cell_type": "code",
   "execution_count": 14,
   "metadata": {},
   "outputs": [],
   "source": [
    "# Submit an order if quantity is above 0. \n",
    "def submitOrder(stock:str, qty:int, side:str, respond  = []):\n",
    "    if(qty > 0):\n",
    "        try:\n",
    "            api.submit_order(stock, qty, side, \"market\", \"day\")\n",
    "            print(\"Market order of | \" + str(qty) + \" \" +\n",
    "            stock + \" \" + side + \" | completed.\")\n",
    "            respond.append(True)\n",
    "        except:\n",
    "            print(\"Order of | \" + str(qty) + \" \" + stock +\n",
    "                    \" \" + side + \" | did not go through.\")\n",
    "            respond.append(False)\n",
    "    else:\n",
    "        print(\"Quantity is 0, order of | \" + str(qty) +\n",
    "            \" \" + stock + \" \" + side + \" | completed.\")\n",
    "        respond.append(True)"
   ]
  },
  {
   "cell_type": "code",
   "execution_count": 15,
   "metadata": {},
   "outputs": [],
   "source": [
    "# submitOrder(\"AAPL\", 123, \"buy\")"
   ]
  },
  {
   "cell_type": "code",
   "execution_count": 16,
   "metadata": {},
   "outputs": [],
   "source": [
    "# api.close_position(\"AAPL\")"
   ]
  },
  {
   "cell_type": "code",
   "execution_count": 17,
   "metadata": {},
   "outputs": [
    {
     "data": {
      "text/plain": [
       "[]"
      ]
     },
     "execution_count": 17,
     "metadata": {},
     "output_type": "execute_result"
    }
   ],
   "source": [
    "short"
   ]
  },
  {
   "cell_type": "code",
   "execution_count": 18,
   "metadata": {},
   "outputs": [],
   "source": [
    "# return index pos of symbol in short list\n",
    "def shortListIndex(symbol:str):\n",
    "    # find index in long list\n",
    "    for i in range(len(short)):\n",
    "        \n",
    "        # if it is a match return \n",
    "        if (short[i][0] == symbol):\n",
    "            return i\n",
    "    \n",
    "    # if index cannot be found crash the program\n",
    "    sys.exit()"
   ]
  },
  {
   "cell_type": "code",
   "execution_count": 19,
   "metadata": {},
   "outputs": [],
   "source": [
    "# return index pos of symbol in long list\n",
    "def longListIndex(symbol:str):\n",
    "    # find index in long list\n",
    "    for i in range(len(long)):\n",
    "        \n",
    "        # if it is a match return \n",
    "        if (long[i][0] == symbol):\n",
    "            return i\n",
    "    \n",
    "    # if index cannot be found crash the program\n",
    "    sys.exit()"
   ]
  },
  {
   "cell_type": "code",
   "execution_count": 40,
   "metadata": {},
   "outputs": [],
   "source": [
    "# supposed all position exist \n",
    "def adjustPos():\n",
    "    \n",
    "    for oldPos in oldPosList:\n",
    "\n",
    "        oldQty = abs(int(float(oldPos.qty)))\n",
    "\n",
    "        # Position is now not in long list\n",
    "        if(longSymbol.count(oldPos.symbol) == 0):\n",
    "\n",
    "            # Position is now not in short list either.  Clear position.\n",
    "            if (shortSymbol.count(oldPos.symbol) == 0):\n",
    "                api.close_position(oldPos.symbol)\n",
    "\n",
    "            # Position is now in short list        \n",
    "            else: \n",
    "\n",
    "                # find wanted qty of particular stock in short list\n",
    "                shortQty = short[shortListIndex(oldPos.symbol)][1]\n",
    "\n",
    "                # position was in long but now in short. clear position and sell short\n",
    "                if (oldPos.side == \"long\"):\n",
    "                    api.close_position(oldPos.symbol)\n",
    "                    time.sleep(3)\n",
    "                    submitOrder(oldPos.symbol, shortQty, \"sell\")\n",
    "                \n",
    "                # position was in short and is now in short list\n",
    "                else:\n",
    "\n",
    "                    # old quantity is what what we want, pass for now\n",
    "                    if (oldQty == shortQty):\n",
    "                        pass\n",
    "\n",
    "                    # need to adjust qty\n",
    "                    else:\n",
    "                        diff = oldQty - shortQty  \n",
    "                        # too much short, buy some back\n",
    "                        if (diff > 0):\n",
    "                            submitOrder(oldPos.symbol, abs(diff), \"buy\")\n",
    "                        else:\n",
    "                            submitOrder(oldPos.symbol, abs(diff), \"sell\")\n",
    "\n",
    "        # position is now in long list\n",
    "        else:\n",
    "\n",
    "            # find wanted qty of particular stock in long list\n",
    "            longQty = long[longListIndex(oldPos.symbol)][1]\n",
    "\n",
    "            # position changed from short to long, clear old position and buy long\n",
    "            if (oldPos.side == \"short\"):\n",
    "                api.close_position(oldPos.symbol)\n",
    "                time.sleep(3)\n",
    "                submitOrder(oldPos.symbol, longQty, \"buy\")\n",
    "            \n",
    "            # position was in long and is now in long list\n",
    "            else:\n",
    "\n",
    "                # old quantity is what what we want, pass for now\n",
    "                if (oldQty == longQty):\n",
    "                    pass\n",
    "                \n",
    "                 # need to adjust qty\n",
    "                else:\n",
    "                    diff = oldQty - longQty  \n",
    "                    # too much long, sell some out\n",
    "                    if (diff > 0):\n",
    "                        submitOrder(oldPos.symbol, abs(diff), \"sell\")\n",
    "                    else:\n",
    "                        submitOrder(oldPos.symbol, abs(diff), \"buy\")               "
   ]
  },
  {
   "cell_type": "code",
   "execution_count": 21,
   "metadata": {},
   "outputs": [],
   "source": [
    "# supposed no existing position WIP\n",
    "def takePos():\n",
    "\n",
    "    # buy in all long\n",
    "    for i in range(len(long)):\n",
    "        submitOrder(long[i][0], long[i][1], \"buy\")\n",
    "\n",
    "    # sell out all short\n",
    "    for i in range(len(short)):\n",
    "        submitOrder(short[i][0], short[i][1], \"sell\")    "
   ]
  },
  {
   "cell_type": "code",
   "execution_count": 57,
   "metadata": {},
   "outputs": [],
   "source": [
    "# rebalance position \n",
    "def rebalance():\n",
    "\n",
    "    # clear all orders \n",
    "    api.cancel_all_orders()\n",
    "\n",
    "    # get list of positions\n",
    "    getPosition()\n",
    "\n",
    "    # print symbol and qty of long position\n",
    "    longSymbol[:] = []\n",
    "    for i in range(len(long)):\n",
    "        longSymbol.append(long[i][0])  \n",
    "    print(\"We are taking a long position in: \" + str(long))\n",
    "    # print symbol and qty of short position\n",
    "    shortSymbol[:] = []\n",
    "    for i in range(len(short)):\n",
    "        shortSymbol.append(short[i][0])\n",
    "    print(\"We are taking a short position in: \" + str(short))\n",
    "\n",
    "    global oldPosList\n",
    "    oldPosList.clear()\n",
    "    oldPosList = api.list_positions()\n",
    "    # adjust position if oldPosList is not empty (i.e. position already exist)\n",
    "    if len(oldPosList) > 0:\n",
    "        print(\"adjusting position...\")\n",
    "        adjustPos()\n",
    "        print(\"adjustment completed\")\n",
    "\n",
    "    # else submit orders according to list directly\n",
    "    else:\n",
    "        print(\"taking new position...\")\n",
    "        takePos()\n",
    "        print(\"position submitted\")"
   ]
  },
  {
   "cell_type": "code",
   "execution_count": 58,
   "metadata": {},
   "outputs": [
    {
     "name": "stdout",
     "output_type": "stream",
     "text": [
      "1/1 [==============================] - 0s 20ms/step\n",
      "AAPL had predicted percent change: -0.0808078721165657\n",
      "1/1 [==============================] - 0s 21ms/step\n",
      "AMD had predicted percent change: -0.12739241123199463\n",
      "1/1 [==============================] - 0s 28ms/step\n",
      "ASML had predicted percent change: 0.40552935004234314\n",
      "1/1 [==============================] - 0s 17ms/step\n",
      "JPM had predicted percent change: -0.22829844057559967\n",
      "1/1 [==============================] - 0s 32ms/step\n",
      "META had predicted percent change: -0.6401351690292358\n",
      "1/1 [==============================] - 0s 19ms/step\n",
      "MSFT had predicted percent change: -0.44512879848480225\n",
      "1/1 [==============================] - 0s 20ms/step\n",
      "NVDA had predicted percent change: -0.5357868671417236\n",
      "1/1 [==============================] - 0s 36ms/step\n",
      "PFE had predicted percent change: -0.20363867282867432\n",
      "1/1 [==============================] - 0s 22ms/step\n",
      "TSLA had predicted percent change: -0.45998436212539673\n",
      "1/1 [==============================] - 0s 20ms/step\n",
      "TSM had predicted percent change: 0.2978436350822449\n",
      "We are taking a long position in: [['ASML', 26], ['TSM', 111]]\n",
      "We are taking a short position in: [['AAPL', 16], ['AMD', 48], ['JPM', 57], ['META', 108], ['MSFT', 48], ['NVDA', 101], ['PFE', 112], ['TSLA', 18]]\n",
      "adjusting position...\n",
      "Market order of | 14 TSLA sell | completed.\n",
      "Market order of | 16 AAPL sell | completed.\n",
      "Market order of | 44 TSM buy | completed.\n",
      "Market order of | 33 JPM buy | completed.\n",
      "Market order of | 32 MSFT sell | completed.\n",
      "Market order of | 80 NVDA sell | completed.\n",
      "Market order of | 36 PFE sell | completed.\n",
      "Market order of | 66 ASML sell | completed.\n",
      "Market order of | 88 AMD buy | completed.\n",
      "Market order of | 26 META sell | completed.\n",
      "adjustment completed\n"
     ]
    }
   ],
   "source": [
    "rebalance()  "
   ]
  },
  {
   "cell_type": "code",
   "execution_count": 14,
   "metadata": {},
   "outputs": [],
   "source": [
    "%%capture\n",
    "api.close_all_positions()"
   ]
  }
 ],
 "metadata": {
  "kernelspec": {
   "display_name": "Python 3.9.13 64-bit (windows store)",
   "language": "python",
   "name": "python3"
  },
  "language_info": {
   "codemirror_mode": {
    "name": "ipython",
    "version": 3
   },
   "file_extension": ".py",
   "mimetype": "text/x-python",
   "name": "python",
   "nbconvert_exporter": "python",
   "pygments_lexer": "ipython3",
   "version": "3.9.13"
  },
  "orig_nbformat": 4,
  "vscode": {
   "interpreter": {
    "hash": "fe8cccd2fb0d3d598216e6b545345c3019a2114edec332cbd0f157d3861c161b"
   }
  }
 },
 "nbformat": 4,
 "nbformat_minor": 2
}
